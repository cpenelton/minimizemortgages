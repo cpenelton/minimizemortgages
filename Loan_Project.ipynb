{
 "cells": [
  {
   "cell_type": "code",
   "execution_count": 1,
   "id": "1abc58dc",
   "metadata": {},
   "outputs": [],
   "source": [
    "import cvxpy as cp\n",
    "import numpy as np\n",
    "import matplotlib.pyplot as plt\n",
    "import random"
   ]
  },
  {
   "cell_type": "code",
   "execution_count": 58,
   "id": "02ecee96",
   "metadata": {},
   "outputs": [],
   "source": [
    "class LoanOptions:\n",
    "    def __init__(self,num_loans,B,T,L_T = [],L_B = [],L_R = [],L_M = [],min_p=1,max_p=100,min_t = 6,max_r=100):\n",
    "        self.num_loans = num_loans\n",
    "        self.B = B\n",
    "        self.T = T\n",
    "        self.L_T = L_T # number of loan payments for each loan\n",
    "        self.L_B = L_B # max amount for each loan\n",
    "        self.L_R = L_R # loan rate for each loan\n",
    "        self.L_M = L_M # minimimum loan payment\n",
    "        self.min_p = min_p\n",
    "        self.max_p = max_p\n",
    "        self.min_t = min_t\n",
    "        self.max_r = max_r\n",
    "    def randomly_generate_loans(self):\n",
    "        self.L_T = [random.randint(self.min_t,self.T) \n",
    "                    for x in range(self.num_loans)]\n",
    "        self.L_R = [ random.randint(1,self.max_r)/100 for x in range(self.num_loans)]\n",
    "        self.L_B = [random.randint(1,self.B) for x in range(self.num_loans)]\n",
    "        while(sum(self.L_B) < self.B):\n",
    "            self.L_B = [random.randint(1,self.B) for x in range(self.num_loans)]\n",
    "            \n",
    "        self.L_M = [ random.randint(int(self.L_B[x]/self.L_T[x]),int(self.B/self.T))\n",
    "                    if int(self.L_B[x]/self.L_T[x]) < int(self.B/self.T) \n",
    "                    else random.randint(int(self.B/self.T),int(self.L_B[x]/self.L_T[x]))\n",
    "                   for x in range(self.num_loans)]     "
   ]
  },
  {
   "cell_type": "code",
   "execution_count": null,
   "id": "3b86bcf9",
   "metadata": {},
   "outputs": [],
   "source": [
    "loan_data = LoanOptions(num_loans=5,B=5000,T=24)\n",
    "loan_data.randomly_generate_loans()"
   ]
  },
  {
   "cell_type": "code",
   "execution_count": null,
   "id": "a33f474b",
   "metadata": {},
   "outputs": [],
   "source": [
    "print(loan_data.L_B)\n",
    "print(loan_data.L_R)\n",
    "print(loan_data.L_T)\n",
    "print(loan_data.L_M)"
   ]
  },
  {
   "cell_type": "code",
   "execution_count": 125,
   "id": "229157e2",
   "metadata": {},
   "outputs": [
    {
     "name": "stdout",
     "output_type": "stream",
     "text": [
      "solver: ECOS\n",
      "minimal payment: 6294.398079768032\n",
      "maximum borrowing amount: [ 438 3543 4796 4484]\n",
      "total months to pay each loan: [12  7  6 12]\n",
      "minimum monthly payment for each loan: [0 0 0 0]\n",
      "loan interest rates: [0.3  0.58 0.29 0.51]\n",
      "Net Present Value of loans: [569.4, 4626.520097323997, 5447.208885291622, 6770.84]\n",
      "loan payments: [3.14168987e-08 3.14168987e-08 3.14168987e-08 3.14168987e-08\n",
      " 3.14168987e-08 3.14168987e-08 1.31088572e-07 1.13880000e+02\n",
      " 1.13880000e+02 1.13880000e+02 1.13880000e+02 1.13880000e+02]\n",
      "loan payments: [3.68190751e-08 3.68190751e-08 3.68190751e-08 3.68190751e-08\n",
      " 3.68190751e-08 3.68190751e-08 5.00000000e+02]\n",
      "loan payments: [549.06634626 549.06634626 549.06634626 549.06634626 549.06634626\n",
      " 549.06634626]\n",
      "loan payments: [1.53884625e-07 1.53884625e-07 1.53884625e-07 1.53884625e-07\n",
      " 1.53884625e-07 1.53884625e-07 2.65713809e-07 3.86120000e+02\n",
      " 3.86120000e+02 3.86120000e+02 3.86120000e+02 3.86120000e+02]\n"
     ]
    }
   ],
   "source": [
    "B = cp.Parameter(nonneg=True) # total amount we need to borrow\n",
    "B.value = 5000\n",
    "T = cp.Parameter(nonneg=True) # total number of months to pay off loan\n",
    "T.value = 12\n",
    "p = cp.Parameter(nonneg=True) # total monthly payment\n",
    "p.value = int((B.value*(1.2))/T.value)\n",
    "\n",
    "num_loans = 4\n",
    "# generate our loan constants\n",
    "loan_data = LoanOptions(num_loans=num_loans,B=B.value,T=T.value,max_r=60)\n",
    "loan_data.randomly_generate_loans()\n",
    "# convert object variables to parameters for more efficient use\n",
    "# total number of payments to make for each loan\n",
    "L_T = cp.Parameter(num_loans,nonneg=True)\n",
    "L_T.value = np.array(loan_data.L_T)\n",
    "# maximum loan amount for each loan\n",
    "L_B = cp.Parameter(num_loans,nonneg=True)\n",
    "L_B.value = np.array(loan_data.L_B)\n",
    "# intrest rate for each loan\n",
    "L_R = cp.Parameter(num_loans,nonneg=True)\n",
    "L_R.value = np.array(loan_data.L_R)\n",
    "# minimum payment for each loan\n",
    "L_M = cp.Parameter(num_loans,nonneg=True)\n",
    "#L_M.value = np.array(loan_data.L_M)\n",
    "L_M.value = np.array([0]*num_loans)\n",
    "\n",
    "# make our loan variables\n",
    "total_payment = [cp.Variable(x,nonneg=True) for x in L_T.value]      \n",
    "obj = cp.Minimize(cp.sum([cp.sum(x) for x in total_payment]))\n",
    "\n",
    "# make our constraints\n",
    "constraints = []\n",
    "\n",
    "# total principal on all loans must equal borrowing needs\n",
    "constraints.append(cp.sum(\n",
    "    [cp.sum(loan_payments)/((1+L_R.value[i])**(L_T.value[i]/12))\n",
    "     for i,loan_payments in enumerate(total_payment)])==B.value)\n",
    "\n",
    "# total payments for each loan must be less than max borrow amount\n",
    "npv = []\n",
    "for i,loan_payments in enumerate(total_payment):\n",
    "    npv.append(L_B.value[i]*(1+L_R.value[i])**(L_T.value[i]/12))\n",
    "    constraints.append(cp.sum(loan_payments)<=L_B.value[i]*(1+L_R.value[i])**(L_T.value[i]/12))\n",
    "\n",
    "# total payments for one loan must be less than T\n",
    "for time_horizon in L_T:\n",
    "    constraints.append(time_horizon <= T.value)   \n",
    "\n",
    "# monthly payment on a loan is a minimum value m_i\n",
    "for i,loan_payments in enumerate(total_payment):\n",
    "    for payment in loan_payments:\n",
    "        constraints.append(payment>= L_M.value[i])\n",
    "\n",
    "# total monthly payment equal to p\n",
    "for month in range(T.value):\n",
    "    constraints.append(cp.sum([i[month] for i in total_payment if i.size > month])>=p)    \n",
    "\n",
    "# solve\n",
    "prob = cp.Problem(obj,constraints)\n",
    "prob.solve()\n",
    "print('solver: '+prob.solver_stats.solver_name)\n",
    "print('minimal payment: ' + str(prob.value))\n",
    "print('maximum borrowing amount: '+ str(L_B.value))\n",
    "print('total months to pay each loan: '+ str(L_T.value))\n",
    "print('minimum monthly payment for each loan: '+str(L_M.value))\n",
    "print('loan interest rates: '+str(L_R.value))\n",
    "print('Net Present Value of loans: '+str(npv))\n",
    "\n",
    "for loan_payment in total_payment:\n",
    "    print(\"loan payments: \"+ str(loan_payment.value))"
   ]
  },
  {
   "cell_type": "code",
   "execution_count": 175,
   "id": "74ba812f",
   "metadata": {},
   "outputs": [],
   "source": [
    " def optimize_loans_scenario_1(b,t,required_payment,max_loan_amounts,loan_terms,loan_rates,minimum_monthly_payment):\n",
    "    B = cp.Parameter(nonneg=True) # total amount we need to borrow\n",
    "    B.value = b\n",
    "    T = cp.Parameter(nonneg=True) # total number of months to pay off loan\n",
    "    T.value = t\n",
    "    p = cp.Parameter(nonneg=True) # total monthly payment\n",
    "    p.value = required_payment\n",
    "\n",
    "    num_loans = len(max_loan_amounts)\n",
    "    # generate our loan constants\n",
    "    loan_data = LoanOptions(num_loans=num_loans,B=B.value,T=T.value,max_r=60)\n",
    "    loan_data.randomly_generate_loans()\n",
    "    # convert object variables to parameters for more efficient use\n",
    "    # total number of payments to make for each loan\n",
    "    L_T = cp.Parameter(num_loans,nonneg=True)\n",
    "    L_T.value = np.array(loan_terms)\n",
    "    # maximum loan amount for each loan\n",
    "    L_B = cp.Parameter(num_loans,nonneg=True)\n",
    "    L_B.value = np.array(max_loan_amounts)\n",
    "    # intrest rate for each loan\n",
    "    L_R = cp.Parameter(num_loans,nonneg=True)\n",
    "    L_R.value = np.array(loan_rates)\n",
    "    # minimum payment for each loan\n",
    "    L_M = cp.Parameter(num_loans,nonneg=True)\n",
    "    #L_M.value = np.array(loan_data.L_M)\n",
    "    L_M.value = np.array(minimum_monthly_payment)#[0]*num_loans)\n",
    "\n",
    "    # make our loan variables\n",
    "    total_payment = [cp.Variable(x,nonneg=True) for x in L_T.value]      \n",
    "    obj = cp.Minimize(cp.sum([cp.sum(x) for x in total_payment]))\n",
    "\n",
    "    # make our constraints\n",
    "    constraints = []\n",
    "\n",
    "    # total principal on all loans must equal borrowing needs\n",
    "    constraints.append(cp.sum(\n",
    "        [cp.sum(loan_payments)/((1+L_R.value[i])**(L_T.value[i]/12))\n",
    "         for i,loan_payments in enumerate(total_payment)])==B.value)\n",
    "\n",
    "    # total payments for each loan must be less than max borrow amount\n",
    "    npv = []\n",
    "    for i,loan_payments in enumerate(total_payment):\n",
    "        npv.append(\"{:0.2f}\".format(L_B.value[i]*(1+L_R.value[i])**(L_T.value[i]/12)))\n",
    "        constraints.append(cp.sum(loan_payments)<=L_B.value[i]*(1+L_R.value[i])**(L_T.value[i]/12))\n",
    "\n",
    "    # total payments for one loan must be less than T\n",
    "    for time_horizon in L_T:\n",
    "        constraints.append(time_horizon <= T.value)   \n",
    "\n",
    "    # monthly payment on a loan is a minimum value m_i\n",
    "    for i,loan_payments in enumerate(total_payment):\n",
    "        for payment in loan_payments:\n",
    "            constraints.append(payment>= L_M.value[i])\n",
    "\n",
    "    # total monthly payment >= to p\n",
    "    for month in range(T.value):\n",
    "        constraints.append(cp.sum([i[month] for i in total_payment if i.size > month])>=p)    \n",
    "    \n",
    "    # solve\n",
    "    prob = cp.Problem(obj,constraints)\n",
    "    prob.solve()\n",
    "    #print('solver: '+prob.solver_stats.solver_name)\n",
    "    print('minimal payment: ' + \"{:0.2f}\".format(prob.value))\n",
    "    print('maximum borrowing amount: '+ str(L_B.value))\n",
    "    print('total months to pay each loan: '+ str(L_T.value))\n",
    "    print('minimum monthly payment for each loan: '+str(L_M.value))\n",
    "    print('loan interest rates: '+str(L_R.value))\n",
    "    print('Net Present Value of loans: '+str(npv))\n",
    "\n",
    "    for i,loan_payment in enumerate(total_payment):\n",
    "        print(\"loan payments for loan \"+str(i+1)+ \": \"+ \"{:0.2f}\".format(sum(loan_payment.value))) #{:0.2f}.format(sum(loan_payment.value))"
   ]
  },
  {
   "cell_type": "code",
   "execution_count": 180,
   "id": "8192fb7f",
   "metadata": {},
   "outputs": [],
   "source": [
    " def optimize_loans_scenario_2(b,t,required_payment,max_loan_amounts,loan_terms,loan_rates,minimum_monthly_payment):\n",
    "    B = cp.Parameter(nonneg=True) # total amount we need to borrow\n",
    "    B.value = b\n",
    "    T = cp.Parameter(nonneg=True) # total number of months to pay off loan\n",
    "    T.value = t\n",
    "    p = cp.Parameter(nonneg=True) # total monthly payment\n",
    "    p.value = required_payment\n",
    "\n",
    "    num_loans = len(max_loan_amounts)\n",
    "    # generate our loan constants\n",
    "    loan_data = LoanOptions(num_loans=num_loans,B=B.value,T=T.value,max_r=60)\n",
    "    loan_data.randomly_generate_loans()\n",
    "    # convert object variables to parameters for more efficient use\n",
    "    # total number of payments to make for each loan\n",
    "    L_T = cp.Parameter(num_loans,nonneg=True)\n",
    "    L_T.value = np.array(loan_terms)\n",
    "    # maximum loan amount for each loan\n",
    "    L_B = cp.Parameter(num_loans,nonneg=True)\n",
    "    L_B.value = np.array(max_loan_amounts)\n",
    "    # intrest rate for each loan\n",
    "    L_R = cp.Parameter(num_loans,nonneg=True)\n",
    "    L_R.value = np.array(loan_rates)\n",
    "    # minimum payment for each loan\n",
    "    L_M = cp.Parameter(num_loans,nonneg=True)\n",
    "    #L_M.value = np.array(loan_data.L_M)\n",
    "    L_M.value = np.array(minimum_monthly_payment)#[0]*num_loans)\n",
    "\n",
    "    # make our loan variables\n",
    "    total_payment = [cp.Variable(x,nonneg=True) for x in L_T.value]      \n",
    "    obj = cp.Minimize(cp.sum([cp.sum(x) for x in total_payment]))\n",
    "\n",
    "    # make our constraints\n",
    "    constraints = []\n",
    "\n",
    "    # total principal on all loans must equal borrowing needs\n",
    "    constraints.append(cp.sum(\n",
    "        [cp.sum(loan_payments)/((1+L_R.value[i])**(L_T.value[i]/12))\n",
    "         for i,loan_payments in enumerate(total_payment)])==B.value)\n",
    "\n",
    "    # total payments for each loan must be less than max borrow amount\n",
    "    npv = []\n",
    "    for i,loan_payments in enumerate(total_payment):\n",
    "        npv.append(\"{:0.2f}\".format(L_B.value[i]*(1+L_R.value[i])**(L_T.value[i]/12)))\n",
    "        constraints.append(cp.sum(loan_payments)<=L_B.value[i]*(1+L_R.value[i])**(L_T.value[i]/12))\n",
    "\n",
    "    # total payments for one loan must be less than T\n",
    "    for time_horizon in L_T:\n",
    "        constraints.append(time_horizon <= T.value)   \n",
    "\n",
    "    # monthly payment on a loan is a minimum value m_i\n",
    "    for i,loan_payments in enumerate(total_payment):\n",
    "        for payment in loan_payments:\n",
    "            constraints.append(payment>= L_M.value[i])\n",
    "\n",
    "    # total monthly payment >= to p\n",
    "    for month in range(T.value):\n",
    "        constraints.append(cp.sum([i[month] for i in total_payment if i.size > month])<=p)    \n",
    "    \n",
    "    # solve\n",
    "    prob = cp.Problem(obj,constraints)\n",
    "    prob.solve()\n",
    "    #print('solver: '+prob.solver_stats.solver_name)\n",
    "    print('minimal payment: ' + \"{:0.2f}\".format(prob.value))\n",
    "    print('maximum borrowing amount: '+ str(L_B.value))\n",
    "    print('total months to pay each loan: '+ str(L_T.value))\n",
    "    print('minimum monthly payment for each loan: '+str(L_M.value))\n",
    "    print('loan interest rates: '+str(L_R.value))\n",
    "    print('Net Present Value of loans: '+str(npv))\n",
    "\n",
    "    for i,loan_payment in enumerate(total_payment):\n",
    "        try:\n",
    "            print(\"loan payments for loan \"+str(i+1)+ \": \"+ \"{:0.2f}\".format(sum(loan_payment.value))) \n",
    "        except:\n",
    "            print('infeasible solution')"
   ]
  },
  {
   "cell_type": "code",
   "execution_count": 230,
   "id": "76177318",
   "metadata": {},
   "outputs": [],
   "source": [
    " def optimize_loans_scenario_3(b,t,required_payment,required_payment_interest,max_loan_amounts,loan_terms,loan_rates,minimum_monthly_payment):\n",
    "    B = cp.Parameter(nonneg=True) # total amount we need to borrow\n",
    "    B.value = b\n",
    "    T = cp.Parameter(nonneg=True) # total number of months to pay off loan\n",
    "    T.value = t\n",
    "    p = cp.Parameter(t,nonneg=True) # total monthly payment\n",
    "    p.value = [0]*(t)\n",
    "    for y in range(int(t/12)):\n",
    "        for m in range(12):\n",
    "            # want the monthy rent to compound interest every year\n",
    "            p.value[y*12+m]=required_payment*(1+required_payment_interest)**(y+1)\n",
    "    \n",
    "    num_loans = len(max_loan_amounts)\n",
    "    # generate our loan constants\n",
    "    loan_data = LoanOptions(num_loans=num_loans,B=B.value,T=T.value,max_r=60)\n",
    "    loan_data.randomly_generate_loans()\n",
    "    # convert object variables to parameters for more efficient use\n",
    "    # total number of payments to make for each loan\n",
    "    L_T = cp.Parameter(num_loans,nonneg=True)\n",
    "    L_T.value = np.array(loan_terms)\n",
    "    # maximum loan amount for each loan\n",
    "    L_B = cp.Parameter(num_loans,nonneg=True)\n",
    "    L_B.value = np.array(max_loan_amounts)\n",
    "    # intrest rate for each loan\n",
    "    L_R = cp.Parameter(num_loans,nonneg=True)\n",
    "    L_R.value = np.array(loan_rates)\n",
    "    # minimum payment for each loan\n",
    "    L_M = cp.Parameter(num_loans,nonneg=True)\n",
    "    #L_M.value = np.array(loan_data.L_M)\n",
    "    L_M.value = np.array(minimum_monthly_payment)#[0]*num_loans)\n",
    "\n",
    "    # make our loan variables\n",
    "    total_payment = [cp.Variable(x,nonneg=True) for x in L_T.value]      \n",
    "    obj = cp.Minimize(cp.sum([cp.sum(x) for x in total_payment]))\n",
    "\n",
    "    # make our constraints\n",
    "    constraints = []\n",
    "\n",
    "    # total principal on all loans must equal borrowing needs\n",
    "    constraints.append(cp.sum(\n",
    "        [cp.sum(loan_payments)/((1+L_R.value[i])**(L_T.value[i]/12))\n",
    "         for i,loan_payments in enumerate(total_payment)])==B.value)\n",
    "\n",
    "    # total payments for each loan must be less than max borrow amount\n",
    "    npv = []\n",
    "    for i,loan_payments in enumerate(total_payment):\n",
    "        npv.append(\"{:0.2f}\".format(L_B.value[i]*(1+L_R.value[i])**(L_T.value[i]/12)))\n",
    "        constraints.append(cp.sum(loan_payments)<=L_B.value[i]*(1+L_R.value[i])**(L_T.value[i]/12))\n",
    "\n",
    "    # total payments for one loan must be less than T\n",
    "    for time_horizon in L_T:\n",
    "        constraints.append(time_horizon <= T.value)   \n",
    "\n",
    "    # monthly payment on a loan is a minimum value m_i\n",
    "    for i,loan_payments in enumerate(total_payment):\n",
    "        for payment in loan_payments:\n",
    "            constraints.append(payment>= L_M.value[i])\n",
    "\n",
    "    # total monthly payment >= to p\n",
    "    for month in range(T.value):\n",
    "        constraints.append(cp.sum([i[month] for i in total_payment if i.size > month])<=p.value[month])    \n",
    "    \n",
    "    # solve\n",
    "    prob = cp.Problem(obj,constraints)\n",
    "    prob.solve()\n",
    "    #print('solver: '+prob.solver_stats.solver_name)\n",
    "    print('minimal payment: ' + \"{:0.2f}\".format(prob.value))\n",
    "    print('maximum borrowing amount: '+ str(L_B.value))\n",
    "    print('total months to pay each loan: '+ str(L_T.value))\n",
    "    print('minimum monthly payment for each loan: '+str(L_M.value))\n",
    "    print('loan interest rates: '+str(L_R.value))\n",
    "    print('Net Present Value of loans: '+str(npv))\n",
    "\n",
    "    for i,loan_payment in enumerate(total_payment):\n",
    "        try:\n",
    "            print(\"loan payments for loan \"+str(i+1)+ \": \"+ \"{:0.2f}\".format(sum(loan_payment.value))) \n",
    "        except:\n",
    "            print('infeasible solution')\n",
    "\n"
   ]
  },
  {
   "cell_type": "code",
   "execution_count": 177,
   "id": "12b74bcb",
   "metadata": {},
   "outputs": [
    {
     "name": "stdout",
     "output_type": "stream",
     "text": [
      "minimal payment: 672934.17\n",
      "maximum borrowing amount: [500000 500000]\n",
      "total months to pay each loan: [180 180]\n",
      "minimum monthly payment for each loan: [0 0]\n",
      "loan interest rates: [0.02 0.2 ]\n",
      "Net Present Value of loans: ['672934.17', '7703510.79']\n",
      "loan payments for loan 1: 672934.17\n",
      "loan payments for loan 2: 0.00\n"
     ]
    }
   ],
   "source": [
    "b = 500000\n",
    "t = 12*15\n",
    "p = 0\n",
    "max_loan_amounts = [500000,500000]\n",
    "loan_terms = [t,t]\n",
    "loan_rates = [.02,.2]\n",
    "minimum_monthly_payment = [0,0]\n",
    "optimize_loans_scenario_1(b,t,p,max_loan_amounts,loan_terms,loan_rates,minimum_monthly_payment)"
   ]
  },
  {
   "cell_type": "code",
   "execution_count": 178,
   "id": "464fed47",
   "metadata": {},
   "outputs": [
    {
     "name": "stdout",
     "output_type": "stream",
     "text": [
      "minimal payment: 4188222.48\n",
      "maximum borrowing amount: [250000 500000]\n",
      "total months to pay each loan: [180 180]\n",
      "minimum monthly payment for each loan: [0 0]\n",
      "loan interest rates: [0.02 0.2 ]\n",
      "Net Present Value of loans: ['336467.08', '7703510.79']\n",
      "loan payments for loan 1: 336467.08\n",
      "loan payments for loan 2: 3851755.39\n"
     ]
    }
   ],
   "source": [
    "b = 500000\n",
    "t = 12*15\n",
    "p = 0\n",
    "max_loan_amounts = [250000,500000]\n",
    "loan_terms = [t,t]\n",
    "loan_rates = [.02,.2]\n",
    "minimum_monthly_payment = [0,0]\n",
    "optimize_loans_scenario_1(b,t,p,max_loan_amounts,loan_terms,loan_rates,minimum_monthly_payment)"
   ]
  },
  {
   "cell_type": "code",
   "execution_count": 179,
   "id": "ff57d051",
   "metadata": {},
   "outputs": [
    {
     "name": "stdout",
     "output_type": "stream",
     "text": [
      "minimal payment: 580057.83\n",
      "maximum borrowing amount: [500000 500000]\n",
      "total months to pay each loan: [ 90 180]\n",
      "minimum monthly payment for each loan: [0 0]\n",
      "loan interest rates: [0.02 0.02]\n",
      "Net Present Value of loans: ['580057.83', '672934.17']\n",
      "loan payments for loan 1: 580057.83\n",
      "loan payments for loan 2: 0.00\n"
     ]
    }
   ],
   "source": [
    "b = 500000\n",
    "t = 12*15\n",
    "p = 0\n",
    "max_loan_amounts = [500000,500000]\n",
    "loan_terms = [int(t/2),t]\n",
    "loan_rates = [.02,.02]\n",
    "minimum_monthly_payment = [0,0]\n",
    "optimize_loans_scenario_1(b,t,p,max_loan_amounts,loan_terms,loan_rates,minimum_monthly_payment)"
   ]
  },
  {
   "cell_type": "code",
   "execution_count": 215,
   "id": "d1e38cfb",
   "metadata": {},
   "outputs": [
    {
     "name": "stdout",
     "output_type": "stream",
     "text": [
      "maximum monthly payment: 2500.00\n",
      "\n",
      "minimal payment: 134586.83\n",
      "maximum borrowing amount: [100000]\n",
      "total months to pay each loan: [180]\n",
      "minimum monthly payment for each loan: [0]\n",
      "loan interest rates: [0.02]\n",
      "Net Present Value of loans: ['134586.83']\n",
      "loan payments for loan 1: 134586.83\n",
      "\n",
      "\n",
      "minimal payment: 269173.67\n",
      "maximum borrowing amount: [200000]\n",
      "total months to pay each loan: [180]\n",
      "minimum monthly payment for each loan: [0]\n",
      "loan interest rates: [0.02]\n",
      "Net Present Value of loans: ['269173.67']\n",
      "loan payments for loan 1: 269173.67\n",
      "\n",
      "\n",
      "minimal payment: 403760.50\n",
      "maximum borrowing amount: [300000]\n",
      "total months to pay each loan: [180]\n",
      "minimum monthly payment for each loan: [0]\n",
      "loan interest rates: [0.02]\n",
      "Net Present Value of loans: ['403760.50']\n",
      "loan payments for loan 1: 403760.50\n",
      "\n",
      "\n",
      "minimal payment: inf\n",
      "maximum borrowing amount: [400000]\n",
      "total months to pay each loan: [180]\n",
      "minimum monthly payment for each loan: [0]\n",
      "loan interest rates: [0.02]\n",
      "Net Present Value of loans: ['538347.34']\n",
      "infeasible solution\n",
      "\n",
      "\n"
     ]
    }
   ],
   "source": [
    "b = 100000\n",
    "t = 12*15\n",
    "annual_salary = 100000\n",
    "p = (annual_salary*.3)/12\n",
    "loan_terms = [t]\n",
    "loan_rates = [.02]\n",
    "minimum_monthly_payment = [0]\n",
    "print('maximum monthly payment: '+ \"{:0.2f}\".format(p)+ '\\n')\n",
    "\n",
    "for i in range(1,5):\n",
    "    max_loan_amounts = [b*i]\n",
    "    optimize_loans_scenario_2(b*i,t,p,max_loan_amounts,loan_terms,loan_rates,minimum_monthly_payment)\n",
    "    print('\\n')"
   ]
  },
  {
   "cell_type": "code",
   "execution_count": 276,
   "id": "7e6da3e1",
   "metadata": {},
   "outputs": [
    {
     "name": "stdout",
     "output_type": "stream",
     "text": [
      "maximum starting monthly payment: 2978.40\n",
      "\n",
      "minimal payment: inf\n",
      "maximum borrowing amount: [995800]\n",
      "total months to pay each loan: [180]\n",
      "minimum monthly payment for each loan: [0]\n",
      "loan interest rates: [0.04805]\n",
      "Net Present Value of loans: ['2013270.62']\n",
      "infeasible solution\n"
     ]
    }
   ],
   "source": [
    "# Median Bay area home and median bay area salary\n",
    "b = 995800\n",
    "t = 12*15\n",
    "annual_salary = 119136\n",
    "p = (annual_salary*.3)/12\n",
    "loan_terms = [t]\n",
    "loan_rates = [.04805]\n",
    "minimum_monthly_payment = [0]\n",
    "max_loan_amounts = [b]\n",
    "print('maximum starting monthly payment: '+ \"{:0.2f}\".format(p)+ '\\n')\n",
    "optimize_loans_scenario_3(b,t,p,.02,max_loan_amounts,loan_terms,loan_rates,minimum_monthly_payment)"
   ]
  },
  {
   "cell_type": "code",
   "execution_count": 261,
   "id": "ea3453d6",
   "metadata": {},
   "outputs": [
    {
     "name": "stdout",
     "output_type": "stream",
     "text": [
      "maximum starting monthly payment: 2978.40\n",
      "\n",
      "minimal payment: 628613.95\n",
      "maximum borrowing amount: [328000]\n",
      "total months to pay each loan: [180]\n",
      "minimum monthly payment for each loan: [0]\n",
      "loan interest rates: [0.044321]\n",
      "Net Present Value of loans: ['628613.95']\n",
      "loan payments for loan 1: 628613.95\n"
     ]
    }
   ],
   "source": [
    "# Affordable home for median Bay Area salary\n",
    "# with no compounding income it was around 275000\n",
    "b = 328000\n",
    "t = 12*15\n",
    "annual_salary = 119136\n",
    "p = (annual_salary*.3)/12\n",
    "loan_terms = [t]\n",
    "loan_rates = [.044321]\n",
    "minimum_monthly_payment = [0]\n",
    "max_loan_amounts = [b]\n",
    "print('maximum starting monthly payment: '+ \"{:0.2f}\".format(p)+ '\\n')\n",
    "optimize_loans_scenario_3(b,t,p,.02,max_loan_amounts,loan_terms,loan_rates,minimum_monthly_payment)"
   ]
  },
  {
   "cell_type": "code",
   "execution_count": 300,
   "id": "4ade4883",
   "metadata": {},
   "outputs": [
    {
     "data": {
      "text/plain": [
       "0.670616589676642"
      ]
     },
     "execution_count": 300,
     "metadata": {},
     "output_type": "execute_result"
    }
   ],
   "source": [
    "# percent difference in median home value vs affordable home\n",
    "(995800 - 328000)/995800"
   ]
  },
  {
   "cell_type": "code",
   "execution_count": 268,
   "id": "c5d3c1fa",
   "metadata": {},
   "outputs": [
    {
     "name": "stdout",
     "output_type": "stream",
     "text": [
      "maximum starting monthly payment: 2710.00\n",
      "\n",
      "minimal payment: inf\n",
      "maximum borrowing amount: [328000]\n",
      "total months to pay each loan: [180]\n",
      "minimum monthly payment for each loan: [0]\n",
      "loan interest rates: [0.044321]\n",
      "Net Present Value of loans: ['628613.95']\n",
      "infeasible solution\n"
     ]
    }
   ],
   "source": [
    "# affordable home price for median income in Bay Area vs median rent\n",
    "# median rent is 2710 \n",
    "# at the moment you won't beat the rent, you should rent instead of buy\n",
    "b = 328000\n",
    "t = 12*15\n",
    "annual_salary = 119136\n",
    "p = 2710#(annual_salary*.3)/12\n",
    "loan_terms = [t]\n",
    "loan_rates = [.044321]\n",
    "minimum_monthly_payment = [0]\n",
    "max_loan_amounts = [b]\n",
    "print('maximum starting monthly payment: '+ \"{:0.2f}\".format(p)+ '\\n')\n",
    "optimize_loans_scenario_3(b,t,p,.02,max_loan_amounts,loan_terms,loan_rates,minimum_monthly_payment)"
   ]
  },
  {
   "cell_type": "code",
   "execution_count": 292,
   "id": "e099c9c1",
   "metadata": {},
   "outputs": [
    {
     "name": "stdout",
     "output_type": "stream",
     "text": [
      "maximum starting monthly payment: 3000.00\n",
      "\n",
      "minimal payment: 628613.95\n",
      "maximum borrowing amount: [328000]\n",
      "total months to pay each loan: [180]\n",
      "minimum monthly payment for each loan: [0]\n",
      "loan interest rates: [0.044321]\n",
      "Net Present Value of loans: ['628613.95']\n",
      "loan payments for loan 1: 628613.95\n"
     ]
    }
   ],
   "source": [
    "# affordable home price for median income in Bay Area vs rent\n",
    "# if the rent was 3000, then it would be cheaper to buy\n",
    "b = 328000\n",
    "t = 12*15\n",
    "annual_salary = 119136\n",
    "p = 3000#(annual_salary*.3)/12\n",
    "loan_terms = [t]\n",
    "loan_rates = [.044321]\n",
    "minimum_monthly_payment = [0]\n",
    "max_loan_amounts = [b]\n",
    "print('maximum starting monthly payment: '+ \"{:0.2f}\".format(p)+ '\\n')\n",
    "optimize_loans_scenario_3(b,t,p,.02,max_loan_amounts,loan_terms,loan_rates,minimum_monthly_payment)"
   ]
  },
  {
   "cell_type": "code",
   "execution_count": 277,
   "id": "39df7041",
   "metadata": {},
   "outputs": [
    {
     "name": "stdout",
     "output_type": "stream",
     "text": [
      "maximum monthly payment: 1144.80\n",
      "\n",
      "minimal payment: inf\n",
      "maximum borrowing amount: [161162]\n",
      "total months to pay each loan: [180]\n",
      "minimum monthly payment for each loan: [0]\n",
      "loan interest rates: [0.04424]\n",
      "Net Present Value of loans: ['308508.78']\n",
      "infeasible solution\n"
     ]
    }
   ],
   "source": [
    "# Median income and median home price in Mississippi\n",
    "b = 161162\n",
    "t = 12*15\n",
    "annual_salary = 45792\n",
    "p = (annual_salary*.3)/12\n",
    "loan_terms = [t]\n",
    "loan_rates = [.04424]\n",
    "minimum_monthly_payment = [0]\n",
    "max_loan_amounts = [b]\n",
    "print('maximum monthly payment: '+ \"{:0.2f}\".format(p)+ '\\n')\n",
    "optimize_loans_scenario_3(b,t,p,.02,max_loan_amounts,loan_terms,loan_rates,minimum_monthly_payment)"
   ]
  },
  {
   "cell_type": "code",
   "execution_count": 287,
   "id": "2fdc2449",
   "metadata": {},
   "outputs": [
    {
     "name": "stdout",
     "output_type": "stream",
     "text": [
      "maximum monthly payment: 1144.80\n",
      "\n",
      "minimal payment: 241779.42\n",
      "maximum borrowing amount: [120000]\n",
      "total months to pay each loan: [180]\n",
      "minimum monthly payment for each loan: [0]\n",
      "loan interest rates: [0.04781]\n",
      "Net Present Value of loans: ['241779.42']\n",
      "loan payments for loan 1: 241779.42\n"
     ]
    }
   ],
   "source": [
    "# affordable home price for median income in Mississippi\n",
    "# without compounding income a feasible price is 10500\n",
    "b = 120000\n",
    "t = 12*15\n",
    "annual_salary = 45792\n",
    "p = (annual_salary*.3)/12\n",
    "loan_terms = [t]\n",
    "loan_rates = [.04781]\n",
    "minimum_monthly_payment = [0]\n",
    "max_loan_amounts = [b]\n",
    "print('maximum monthly payment: '+ \"{:0.2f}\".format(p)+ '\\n')\n",
    "optimize_loans_scenario_3(b,t,p,.02,max_loan_amounts,loan_terms,loan_rates,minimum_monthly_payment)"
   ]
  },
  {
   "cell_type": "code",
   "execution_count": 299,
   "id": "ba943c39",
   "metadata": {},
   "outputs": [
    {
     "data": {
      "text/plain": [
       "0.2554076022883806"
      ]
     },
     "execution_count": 299,
     "metadata": {},
     "output_type": "execute_result"
    }
   ],
   "source": [
    "# percent decrease in price to make the median home affordable\n",
    "(161162 - 120000)/161162"
   ]
  },
  {
   "cell_type": "code",
   "execution_count": 301,
   "id": "f640e625",
   "metadata": {},
   "outputs": [
    {
     "name": "stdout",
     "output_type": "stream",
     "text": [
      "maximum monthly payment: 916.00\n",
      "\n",
      "minimal payment: inf\n",
      "maximum borrowing amount: [120000]\n",
      "total months to pay each loan: [180]\n",
      "minimum monthly payment for each loan: [0]\n",
      "loan interest rates: [0.04781]\n",
      "Net Present Value of loans: ['241779.42']\n",
      "infeasible solution\n"
     ]
    }
   ],
   "source": [
    "# affordable home price for median income in Mississippi vs median rent\n",
    "# median rent 916\n",
    "# at the moment you won't beat the rent, you should rent instead of buy\n",
    "b = 120000\n",
    "t = 12*15\n",
    "annual_salary = 45792\n",
    "p = 916# (annual_salary*.3)/12\n",
    "loan_terms = [t]\n",
    "loan_rates = [.04781]\n",
    "minimum_monthly_payment = [0]\n",
    "max_loan_amounts = [b]\n",
    "print('maximum monthly payment: '+ \"{:0.2f}\".format(p)+ '\\n')\n",
    "optimize_loans_scenario_3(b,t,p,.02,max_loan_amounts,loan_terms,loan_rates,minimum_monthly_payment)"
   ]
  },
  {
   "cell_type": "code",
   "execution_count": 298,
   "id": "f34af97a",
   "metadata": {},
   "outputs": [
    {
     "name": "stdout",
     "output_type": "stream",
     "text": [
      "maximum monthly payment: 1150.00\n",
      "\n",
      "minimal payment: 241779.42\n",
      "maximum borrowing amount: [120000]\n",
      "total months to pay each loan: [180]\n",
      "minimum monthly payment for each loan: [0]\n",
      "loan interest rates: [0.04781]\n",
      "Net Present Value of loans: ['241779.42']\n",
      "loan payments for loan 1: 241779.42\n"
     ]
    }
   ],
   "source": [
    "# affordable home price for median income in Mississippi vs  rent\n",
    "# if the rent was this much, you'd be better off buying\n",
    "b = 120000\n",
    "t = 12*15\n",
    "annual_salary = 45792\n",
    "p = 1150# (annual_salary*.3)/12\n",
    "loan_terms = [t]\n",
    "loan_rates = [.04781]\n",
    "minimum_monthly_payment = [0]\n",
    "max_loan_amounts = [b]\n",
    "print('maximum monthly payment: '+ \"{:0.2f}\".format(p)+ '\\n')\n",
    "optimize_loans_scenario_3(b,t,p,.02,max_loan_amounts,loan_terms,loan_rates,minimum_monthly_payment)"
   ]
  },
  {
   "cell_type": "code",
   "execution_count": null,
   "id": "6b32673a",
   "metadata": {},
   "outputs": [],
   "source": []
  }
 ],
 "metadata": {
  "kernelspec": {
   "display_name": "Python 3 (ipykernel)",
   "language": "python",
   "name": "python3"
  },
  "language_info": {
   "codemirror_mode": {
    "name": "ipython",
    "version": 3
   },
   "file_extension": ".py",
   "mimetype": "text/x-python",
   "name": "python",
   "nbconvert_exporter": "python",
   "pygments_lexer": "ipython3",
   "version": "3.9.7"
  }
 },
 "nbformat": 4,
 "nbformat_minor": 5
}
